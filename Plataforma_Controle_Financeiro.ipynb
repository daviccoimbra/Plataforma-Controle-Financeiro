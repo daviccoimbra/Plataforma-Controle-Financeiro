{
  "nbformat": 4,
  "nbformat_minor": 0,
  "metadata": {
    "colab": {
      "provenance": []
    },
    "kernelspec": {
      "name": "python3",
      "display_name": "Python 3"
    },
    "language_info": {
      "name": "python"
    }
  },
  "cells": [
    {
      "cell_type": "markdown",
      "source": [
        "# Plataforma de Controle Financeiro\n",
        " Vou construir de maneira gradativa uma plataforma para Controle financeiro, o objetivo dessa atividade é exercitar meus conhecimentos em Python.\n"
      ],
      "metadata": {
        "id": "mmhtW6RSjcp-"
      }
    },
    {
      "cell_type": "code",
      "execution_count": null,
      "metadata": {
        "id": "RJn4CX2ejY_C"
      },
      "outputs": [],
      "source": []
    }
  ]
}