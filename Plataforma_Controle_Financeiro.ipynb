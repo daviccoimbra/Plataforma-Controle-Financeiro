{
  "nbformat": 4,
  "nbformat_minor": 0,
  "metadata": {
    "colab": {
      "provenance": []
    },
    "kernelspec": {
      "name": "python3",
      "display_name": "Python 3"
    },
    "language_info": {
      "name": "python"
    }
  },
  "cells": [
    {
      "cell_type": "markdown",
      "source": [
        "# **Plataforma de Controle Financeiro**\n",
        " Vou construir de maneira gradativa uma plataforma para Controle financeiro, o objetivo dessa atividade é exercitar meus conhecimentos em Python.\n"
      ],
      "metadata": {
        "id": "mmhtW6RSjcp-"
      }
    },
    {
      "cell_type": "markdown",
      "source": [
        "# Objetivo:\n",
        "Criar funções para adicionar despesas e receitas.\n",
        "\n",
        "Salvar os dados em um arquivo transacoes.json.\n",
        "\n",
        "Estrutura simples com menu interativo.\n",
        "\n",
        "# Registro de Transações:\n"
      ],
      "metadata": {
        "id": "RQqf7xRvlKWw"
      }
    },
    {
      "cell_type": "code",
      "source": [
        "from google.colab import drive\n",
        "drive.mount('/content/drive')"
      ],
      "metadata": {
        "colab": {
          "base_uri": "https://localhost:8080/"
        },
        "id": "ksMz70FxmzDX",
        "outputId": "54346de5-db0f-4aea-945c-456f6532277f"
      },
      "execution_count": null,
      "outputs": [
        {
          "output_type": "stream",
          "name": "stdout",
          "text": [
            "Mounted at /content/drive\n"
          ]
        }
      ]
    },
    {
      "cell_type": "code",
      "source": [
        "# Caminho da pasta do seu projeto no Drive\n",
        "PASTA_PROJETO = '/content/drive/MyDrive/ControleFinanceiro'\n",
        "ARQUIVO_DADOS = f\"{PASTA_PROJETO}/transacoes.json\""
      ],
      "metadata": {
        "id": "40j64SBOnT7Y"
      },
      "execution_count": null,
      "outputs": []
    },
    {
      "cell_type": "code",
      "execution_count": null,
      "metadata": {
        "id": "RJn4CX2ejY_C"
      },
      "outputs": [],
      "source": [
        "import json\n",
        "import os\n",
        "from datetime import datetime\n",
        "\n",
        "# Cria a pasta se não existir\n",
        "os.makedirs(PASTA_PROJETO, exist_ok=True)\n",
        "\n",
        "# Inicializa o arquivo transacoes.json, se necessário\n",
        "def inicializar_arquivo():\n",
        "    if not os.path.exists(ARQUIVO_DADOS):\n",
        "        with open(ARQUIVO_DADOS, 'w') as arquivo:\n",
        "            json.dump([], arquivo)\n",
        "\n",
        "def carregar_transacoes():\n",
        "    with open(ARQUIVO_DADOS, 'r') as arquivo:\n",
        "        return json.load(arquivo)\n",
        "\n",
        "def salvar_transacoes(transacoes):\n",
        "    with open(ARQUIVO_DADOS, 'w') as arquivo:\n",
        "        json.dump(transacoes, arquivo, indent=4)\n",
        "\n",
        "def adicionar_transacao(tipo, valor, categoria, data, descricao):\n",
        "    nova_transacao = {\n",
        "        \"tipo\": tipo,\n",
        "        \"valor\": valor,\n",
        "        \"categoria\": categoria,\n",
        "        \"data\": data,\n",
        "        \"descricao\": descricao\n",
        "    }\n",
        "\n",
        "    transacoes = carregar_transacoes()\n",
        "    transacoes.append(nova_transacao)\n",
        "    salvar_transacoes(transacoes)\n",
        "    print(f\"\\n{tipo.title()} registrada com sucesso!\")\n",
        "\n",
        "## Construir Menu Interativo\n",
        "\n",
        "def saldo():\n",
        "    transacoes = carregar_transacoes()\n",
        "    saldo = 0\n",
        "    for i in transacoes:\n",
        "      if i['tipo'] == 'receita':\n",
        "          saldo+=i['valor']\n",
        "      elif i['tipo'] == 'despesa':\n",
        "          saldo-=i['valor']\n",
        "\n",
        "    print(f\"\\nSaldo atual: R$ {saldo:.2f}\")\n",
        "\n",
        "def listar_transacoes():\n",
        "  transacoes = carregar_transacoes()\n",
        "\n",
        "  if not transacoes:\n",
        "    print(\"\\nAinda nenhuma transação foi feita\")\n",
        "    return\n",
        "\n",
        "  for i,t in enumerate(transacoes, start = 1):\n",
        "    print(f\"{i}. {t['data']} | {t['tipo'].upper():7} | R$ {t['valor']:.2f} | {t['categoria']} - {t['descricao']}\")\n",
        "\n",
        "\n",
        "def resumo_por_categoria():\n",
        "    transacoes = carregar_transacoes()\n",
        "    resumo = {}\n",
        "\n",
        "    for t in transacoes:\n",
        "        categoria = t['categoria']\n",
        "        valor = t['valor']\n",
        "        if categoria not in resumo:\n",
        "            resumo[categoria] = 0\n",
        "        if t['tipo'] == 'despesa':\n",
        "            resumo[categoria] -= valor\n",
        "        else:\n",
        "            resumo[categoria] += valor\n",
        "\n",
        "    print(\"\\nResumo por categoria:\")\n",
        "    for cat, total in resumo.items():\n",
        "        print(f\" - {cat}: R$ {total:.2f}\")\n",
        "\n",
        "def menu():\n",
        "  inicializar_arquivo()\n",
        "\n",
        "  while True:\n",
        "    print(\"\\n===== Menu  =====\")\n",
        "    print(\"1. Adicionar Receita\")\n",
        "    print(\"2. Adicionar Despesa\")\n",
        "    print(\"3. Saldo\")\n",
        "    print(\"4. Listar Transações\")\n",
        "    print(\"5. Resumo por Categoria\")\n",
        "    print(\"6. Limpar transações --- temporário\")\n",
        "    print(\"7. Sair\")\n",
        "\n",
        "    option = input(\"Escolha uma opção: \")\n",
        "\n",
        "    if option == \"1\":\n",
        "      tipo = 'receita'\n",
        "    elif option == \"2\":\n",
        "      tipo = 'despesa'\n",
        "    elif option == \"3\":\n",
        "      saldo()\n",
        "      continue\n",
        "    elif option == \"4\":\n",
        "      print('\\n')\n",
        "      listar_transacoes()\n",
        "      continue\n",
        "    elif option == \"5\":\n",
        "      resumo_por_categoria()\n",
        "      continue\n",
        "    elif option == \"6\":\n",
        "      if os.path.exists(ARQUIVO_DADOS):\n",
        "        with open(ARQUIVO_DADOS, 'w') as arquivo:\n",
        "            json.dump([], arquivo)\n",
        "        print('\\nTransações limpadas')\n",
        "      continue\n",
        "    elif option == \"7\":\n",
        "      print(\"\\nSaindo do programa.\")\n",
        "      break\n",
        "    else:\n",
        "      print(\"\\nOpção inválida. Por favor, escolha uma opção válida.\")\n",
        "      continue\n",
        "\n",
        "    try:\n",
        "      valor = float(input(\"Digite o valor: \"))\n",
        "      categoria = input(\"Digite a categoria: \")\n",
        "      data = input(\"Digite a data (YYYY-MM-DD) [Enter para hoje]: \") or datetime.now().strftime(\"%Y-%m-%d\")\n",
        "      descricao = input(\"Digite a descrição: \")\n",
        "\n",
        "      adicionar_transacao(tipo, valor, categoria, data, descricao)\n",
        "\n",
        "    except ValueError:\n",
        "      print(\"\\nErro: valor inválido.\")"
      ]
    },
    {
      "cell_type": "code",
      "source": [
        "menu()"
      ],
      "metadata": {
        "id": "xMTpxnRUWJoV",
        "colab": {
          "base_uri": "https://localhost:8080/"
        },
        "collapsed": true,
        "outputId": "d2650293-b145-40df-a4b9-4edfca5f37cd"
      },
      "execution_count": null,
      "outputs": [
        {
          "output_type": "stream",
          "name": "stdout",
          "text": [
            "\n",
            "===== Menu  =====\n",
            "1. Adicionar Receita\n",
            "2. Adicionar Despesa\n",
            "3. Saldo\n",
            "4. Listar Transações\n",
            "5. Resumo por Categoria\n",
            "6. Limpar transações --- temporário\n",
            "7. Sair\n",
            "Escolha uma opção: 5\n",
            "\n",
            "Resumo por categoria:\n",
            " - Salario: R$ 2300.00\n",
            " - Mae: R$ -750.00\n",
            "\n",
            "===== Menu  =====\n",
            "1. Adicionar Receita\n",
            "2. Adicionar Despesa\n",
            "3. Saldo\n",
            "4. Listar Transações\n",
            "5. Resumo por Categoria\n",
            "6. Limpar transações --- temporário\n",
            "7. Sair\n",
            "Escolha uma opção: 7\n",
            "\n",
            "Saindo do programa.\n"
          ]
        }
      ]
    }
  ]
}
